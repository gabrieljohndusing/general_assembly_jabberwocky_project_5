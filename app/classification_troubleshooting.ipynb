{
 "cells": [
  {
   "cell_type": "code",
   "execution_count": 1,
   "metadata": {},
   "outputs": [],
   "source": [
    "import numpy as np\n",
    "import pandas as pd\n",
    "from sklearn.feature_extraction.text import TfidfVectorizer\n",
    "from sklearn.preprocessing import StandardScaler\n",
    "from sklearn.ensemble import RandomForestClassifier\n",
    "import pickle\n"
   ]
  },
  {
   "cell_type": "code",
   "execution_count": 2,
   "metadata": {},
   "outputs": [],
   "source": [
    "df = pd.read_csv('../datasets/disaster_news.csv',index_col = 0)"
   ]
  },
  {
   "cell_type": "code",
   "execution_count": 62,
   "metadata": {
    "scrolled": false
   },
   "outputs": [
    {
     "name": "stdout",
     "output_type": "stream",
     "text": [
      "Healthcare's earthquake: Lessons from COVID-19 The COVID-19 pandemic has fundamentally disrupted U.S. healthcare organizations. Hospitals have faced drug and device shortages and created new ICUs overnight. Care plans have evolved out of necessity, and hospitals' carefully constructed patient flow systems were up-ended. Healthcare's earthquake: Lessons from COVID-19\r\n",
      "by\r\n",
      "Beth Israel Deaconess Medical Center\r\n",
      "Credit: CC0 Public Domain\r\n",
      "The COVID-19 pandemic has fundamentally disrupted U.S. healthcare organizations. Hospitals have faced drug and device shortages and created new ICUs overnight. Care plans have evolved out of necessity, and hospitals' carefully constructed patient flow systems were up-ended.\r\n",
      "In an article published today in\r\n",
      "NEJM Catalyst Innovations in Care Delivery\r\n",
      ", leaders and clinician researchers from Beth Israel Lahey Health (BILH) propose using\r\n",
      "complexity science\r\n",
      "a field concerned with understanding dynamic, unpredictable systems, such as the human brain economies or climatesto identify strategies that healthcare organizations can use to respond better to the ongoing pandemic and to anticipate future challenges to healthcare delivery\r\n",
      "\"COVID-19 has been a painful reminder that healthcareboth as an industry and as a series of complex organizationshas evolved slowly over time, as have the metrics and models we use to assess quality, safety and accommodate future needs,\" said lead author Jennifer Stevens, MD, MS, Director of the Center for Healthcare Delivery Science at Beth Israel Deaconess Medical Center (BIDMC), part of Beth Israel Lahey Health. \"The principles of complexity science offer three strategies healthcare leaders can employ to manage operations during the COVID-19 pandemic: engaging diverse perspectives in leadership teams, staying open to new metrics, and creating forecasting tools that reflect complex healthcare systems.\"\r\n",
      "Engage diverse thinkers in a dashboard design\r\n",
      "Noting that individuals are often unable to see the \"big picture\" from within a complex system like healthcare, Stevens and colleagues recommend bringing additional,\n",
      " ===========\n",
      "\n",
      "5.6-magnitude earthquake hits Iceland, no injuries reported A 5.6-magnitude earthquake has hit southwest Iceland, shaking buildings in the capital, Reykjavik 5.6-magnitude earthquake hits Iceland, no injuries reported\r\n",
      "10/22/20 7:00 PM\r\n",
      "REYKJAVIK, Iceland  A 5.6-magnitude earthquake hit southwest Iceland on Tuesday, shaking buildings in the capital, Reykjavik. There were no immediate reports of injuries.\r\n",
      "The Icelandic Meteorological Office said the quake struck at 1:43 p.m. (1343GMT) and was centered near Krysuvik, about 35 kilometers (22 miles) south of Reykjavik.\r\n",
      "Prime Minister Katrin Jakobsdottir was speaking at a live Zoom event hosted by the Washington Post when she paused mid-sentence at the time the quake struck. Oh my god, there is an earthquake, she said.\r\n",
      "She added: Well, this is Iceland.\r\n",
      "The Icelandic Met Office has warned residents in western Iceland more quakes could follow. Scientists have not noted increased volcanic activity in the region, as is often the case with seismic activity in Iceland.\r\n",
      "Volcanic Iceland is one of the most seismically active countries in the world, though most quakes are small and do little damage.\r\n",
      "TAGS\n",
      " ===========\n",
      "\n",
      "Himalayas poised for a series of big earthquakes, says study NEW DELHI, Oct 22: The entire Himalayan arc is poised to produce a sequence of great earthquakes, and the next big quake -- of the magnitude of 8 or above 23/10/2020\r\n",
      "NEW DELHI, Oct 22:\r\n",
      "The entire Himalayan arc is poised to produce a sequence of great earthquakes, and the next big quake  of the magnitude of 8 or above  may occur during our lifetimes, according to a study reviewing geological, historical, and geophysical data.\r\n",
      "The human toll of such an event in the densely populated countries across the arc is likely to be unprecedented, the researchers said.\r\n",
      "The study notes that the sequence of future Himalayan earthquakes could be similar to the great earthquakes that occurred in the twentieth century along the Aleutian subduction zone, which extends from the Gulf of Alaska to Kamchatka in Russian Far East.\r\n",
      "The review, which appeared in the journal Seismological Research Letters in August, used basic geological principles stratigraphic analysis, structural analysis, soils analysis, and radiocarbon analysis  to estimate the size and timing of prehistoric earthquakes and evaluate future risk.\r\n",
      "The entire Himalayan arc extending from the eastern boundary of Arunachal Pradesh (India) in the east to Pakistan (in the west) has in the past been the source of great earthquakes, study author Steven G. Wesnousky said.\r\n",
      "These earthquakes will occur again and scientifically, it would not be a surprise if the next great earthquake occurred in our lifetimes. But the resolution of our studies is at best on the order of 100 years, longer than a human lifetime, said Wesnousky, a professor of geology and seismology and director of the Center for Neotectonic Studies at the University of Nevada at Reno, US.\r\n",
      "Seismologist Supriyo Mitra noted that the research matches previous studies.\r\n",
      "The research is a comprehensive review of paleoseismological studies of past Himalayan earthquakes and a forecast of the future events based on the findings, said Mitra, a professor in the department of Earth sciences at the Indian Institute of Science E\n",
      " ===========\n",
      "\n",
      "4.0 Earthquake rocks Niland and parts of the Imperial Valley The United States Geological Survey has confirmed that a 4.0 magnitude earthquake rocked the Imperial Valley near Niland. 4.0 Earthquake rocks Niland and parts of the Imperial Valley\r\n",
      "No reports of injury or damage\r\n",
      "NILAND, Calif. (KYMA/KECY) - The United States Geological Survey has confirmed that a 4.0 magnitude earthquake rocked the Imperial Valley near Niland.\r\n",
      "The 4.0 quake struck right before 2:00pm with an epicenter in Niland, California about 65 miles from Yuma.\r\n",
      "A series of low magnitude (2.0 or less) tremors have been active since 1:00pm.\r\n",
      "Several aftershocks have also followed the 4.0 quake with a magnitude of less than 3.0.\r\n",
      "No damages or injuries have been reported so far.\r\n",
      "Did you feel it? Send any pictures or video to us at news@kyma.com\r\n",
      "Imperial County / Top Stories\r\n",
      "Christian Galeno joined KYMA/KSWT in July of 2019 as a Weekend Anchor and multimedia journalist.\r\n",
      "Related Articles\n",
      " ===========\n",
      "\n",
      "New technology finds long-hidden quakes and possible clues about how earthquakes evolve Measures of Earth's vibrations zigged and zagged across Mostafa Mousavi's screen one morning in Memphis, Tenn. As part of his Ph.D. studies in geophysics, he sat scanning earthquake signals recorded the night before, verifying that decades-old algorithms had detected true earthquakes rather than tremors generated by ordinary things like crashing waves, passing trucks or stomping football fans. New technology finds long-hidden quakes and possible clues about how earthquakes evolve\r\n",
      "by Josie Garthwaite,\r\n",
      "Stanford University\r\n",
      "The Loma Prieta earthquake, which severely shook the San Francisco and Monterey Bay regions in October 1989, occurred mostly on a previously unknown fault. Credit: J.K. Nakata, USGS\r\n",
      "Measures of Earth's vibrations zigged and zagged across Mostafa Mousavi's screen one morning in Memphis, Tenn. As part of his Ph.D. studies in geophysics, he sat scanning earthquake signals recorded the night before, verifying that decades-old algorithms had detected true earthquakes rather than tremors generated by ordinary things like crashing waves, passing trucks or stomping football fans.\r\n",
      "\"I did all this tedious work for six months, looking at continuous data,\" Mousavi, now a research scientist at Stanford's School of Earth, Energy & Environmental Sciences (Stanford Earth), recalled recently. \"That was the point I thought, 'There has to be a much better way to do this stuff.'\"\r\n",
      "This was in 2013. Handheld smartphones were already loaded with algorithms that could break down speech into sound waves and come up with the most likely words in those patterns. Using artificial intelligence, they could even learn from past recordings to become more accurate over time.\r\n",
      "Seismic waves and sound waves aren't so different. One moves through rock and fluid, the other through air. Yet while machine learninghad transformed the way personal computers process and interact with voice and sound, the algorithms used to detect earthquakes in streams of seismic data have hardly changed since the 1980s.\r\n",
      "That has left a lot of earthquake\n",
      " ===========\n",
      "\n",
      "3.2-magnitude earthquake hits San Bernardino County  Orange County Register A small earthquake struck a portion of San Bernardino County early Thursday morning, according to the U.S. Geological Survey. City News Service\r\n",
      "City News Service is a regional wire service covering Los Angeles, Orange, Riverside and San Diego counties. Its reporting and editing staff cover public safety, courts, local government and general assignment stories. Contact the City News Service newsroom at 310-481-0404 or news@socalnews.com.\r\n",
      "View Comments\r\n",
      "Join the Conversation\r\n",
      "We invite you to use our commenting platform to engage in insightful conversations about issues in our community. Although we do not pre-screen comments, we reserve the right at all times to remove any information or materials that are unlawful, threatening, abusive, libelous, defamatory, obscene, vulgar, pornographic, profane, indecent or otherwise objectionable to us, and to disclose any information necessary to satisfy the law, regulation, or government request. We might permanently block any user who abuses these conditions.\r\n",
      "If you see comments that you find offensive, please use the Flag as Inappropriate feature by hovering over the right side of the post, and pulling down on the arrow that appears. Or, contact our editors by emailing moderator@scng.com.\n",
      " ===========\n",
      "\n",
      "3.2-magnitude earthquake hits San Bernardino County  Daily Breeze A small earthquake struck a portion of San Bernardino County early Thursday morning, according to the U.S. Geological Survey. City News Service\r\n",
      "City News Service is a regional wire service covering Los Angeles, Orange, Riverside and San Diego counties. Its reporting and editing staff cover public safety, courts, local government and general assignment stories. Contact the City News Service newsroom at 310-481-0404 or news@socalnews.com.\r\n",
      "View Comments\r\n",
      "Join the Conversation\r\n",
      "We invite you to use our commenting platform to engage in insightful conversations about issues in our community. Although we do not pre-screen comments, we reserve the right at all times to remove any information or materials that are unlawful, threatening, abusive, libelous, defamatory, obscene, vulgar, pornographic, profane, indecent or otherwise objectionable to us, and to disclose any information necessary to satisfy the law, regulation, or government request. We might permanently block any user who abuses these conditions.\r\n",
      "If you see comments that you find offensive, please use the Flag as Inappropriate feature by hovering over the right side of the post, and pulling down on the arrow that appears. Or, contact our editors by emailing moderator@scng.com.\n",
      " ===========\n",
      "\n",
      "3.2-magnitude earthquake hits San Bernardino County  Pasadena Star News A small earthquake struck a portion of San Bernardino County early Thursday morning, according to the U.S. Geological Survey. City News Service\r\n",
      "City News Service is a regional wire service covering Los Angeles, Orange, Riverside and San Diego counties. Its reporting and editing staff cover public safety, courts, local government and general assignment stories. Contact the City News Service newsroom at 310-481-0404 or news@socalnews.com.\r\n",
      "View Comments\r\n",
      "Join the Conversation\r\n",
      "We invite you to use our commenting platform to engage in insightful conversations about issues in our community. Although we do not pre-screen comments, we reserve the right at all times to remove any information or materials that are unlawful, threatening, abusive, libelous, defamatory, obscene, vulgar, pornographic, profane, indecent or otherwise objectionable to us, and to disclose any information necessary to satisfy the law, regulation, or government request. We might permanently block any user who abuses these conditions.\r\n",
      "If you see comments that you find offensive, please use the Flag as Inappropriate feature by hovering over the right side of the post, and pulling down on the arrow that appears. Or, contact our editors by emailing moderator@scng.com.\n",
      " ===========\n",
      "\n",
      "3.2-magnitude earthquake hits San Bernardino County  Press Telegram A small earthquake struck a portion of San Bernardino County early Thursday morning, according to the U.S. Geological Survey. City News Service\r\n",
      "City News Service is a regional wire service covering Los Angeles, Orange, Riverside and San Diego counties. Its reporting and editing staff cover public safety, courts, local government and general assignment stories. Contact the City News Service newsroom at 310-481-0404 or news@socalnews.com.\r\n",
      "View Comments\r\n",
      "Join the Conversation\r\n",
      "We invite you to use our commenting platform to engage in insightful conversations about issues in our community. Although we do not pre-screen comments, we reserve the right at all times to remove any information or materials that are unlawful, threatening, abusive, libelous, defamatory, obscene, vulgar, pornographic, profane, indecent or otherwise objectionable to us, and to disclose any information necessary to satisfy the law, regulation, or government request. We might permanently block any user who abuses these conditions.\r\n",
      "If you see comments that you find offensive, please use the Flag as Inappropriate feature by hovering over the right side of the post, and pulling down on the arrow that appears. Or, contact our editors by emailing moderator@scng.com.\n",
      " ===========\n",
      "\n",
      "3.2-magnitude earthquake hits San Bernardino County  Whittier Daily News A small earthquake struck a portion of San Bernardino County early Thursday morning, according to the U.S. Geological Survey. City News Service\r\n",
      "City News Service is a regional wire service covering Los Angeles, Orange, Riverside and San Diego counties. Its reporting and editing staff cover public safety, courts, local government and general assignment stories. Contact the City News Service newsroom at 310-481-0404 or news@socalnews.com.\r\n",
      "View Comments\r\n",
      "Join the Conversation\r\n",
      "We invite you to use our commenting platform to engage in insightful conversations about issues in our community. Although we do not pre-screen comments, we reserve the right at all times to remove any information or materials that are unlawful, threatening, abusive, libelous, defamatory, obscene, vulgar, pornographic, profane, indecent or otherwise objectionable to us, and to disclose any information necessary to satisfy the law, regulation, or government request. We might permanently block any user who abuses these conditions.\r\n",
      "If you see comments that you find offensive, please use the Flag as Inappropriate feature by hovering over the right side of the post, and pulling down on the arrow that appears. Or, contact our editors by emailing moderator@scng.com.\n",
      " ===========\n",
      "\n"
     ]
    }
   ],
   "source": [
    "for row in df[df['disaster']==1].head(10).iterrows():\n",
    "    print(row[1]['text'] + \"\\n ===========\\n\" )"
   ]
  },
  {
   "cell_type": "code",
   "execution_count": 13,
   "metadata": {},
   "outputs": [
    {
     "data": {
      "text/plain": [
       "0    3551\n",
       "1    3256\n",
       "Name: disaster, dtype: int64"
      ]
     },
     "execution_count": 13,
     "metadata": {},
     "output_type": "execute_result"
    }
   ],
   "source": [
    "df['disaster']"
   ]
  },
  {
   "cell_type": "code",
   "execution_count": 74,
   "metadata": {},
   "outputs": [
    {
     "data": {
      "text/plain": [
       "RandomForestClassifier()"
      ]
     },
     "execution_count": 74,
     "metadata": {},
     "output_type": "execute_result"
    }
   ],
   "source": [
    "# Random Forest -- trained on whole dataset\n",
    "\n",
    "tf_w = TfidfVectorizer(stop_words='english',max_features=5000,ngram_range=(1,3))\n",
    "sc_w = StandardScaler()\n",
    "\n",
    "X = tf_w.fit_transform(df['text'])\n",
    "X = pd.DataFrame(X.toarray(), columns = tf_w.get_feature_names())\n",
    "\n",
    "rf_w = RandomForestClassifier()\n",
    "rf_w.fit(X,df['disaster'])"
   ]
  },
  {
   "cell_type": "code",
   "execution_count": 70,
   "metadata": {},
   "outputs": [
    {
     "data": {
      "text/plain": [
       "0.9998530924048773"
      ]
     },
     "execution_count": 70,
     "metadata": {},
     "output_type": "execute_result"
    }
   ],
   "source": [
    "rf_w.score(X, df['disaster'])"
   ]
  },
  {
   "cell_type": "code",
   "execution_count": 15,
   "metadata": {},
   "outputs": [
    {
     "data": {
      "text/plain": [
       "1"
      ]
     },
     "execution_count": 15,
     "metadata": {},
     "output_type": "execute_result"
    }
   ],
   "source": [
    "rf_w.predict(X)"
   ]
  },
  {
   "cell_type": "code",
   "execution_count": 56,
   "metadata": {},
   "outputs": [],
   "source": [
    "def predict_disaster(text_series):\n",
    "\tX = tf_w.transform(text_series).toarray()\n",
    "\tis_disaster = rf_w.predict(X)\n",
    "\treturn is_disaster"
   ]
  },
  {
   "cell_type": "code",
   "execution_count": 29,
   "metadata": {},
   "outputs": [
    {
     "data": {
      "text/plain": [
       "array([[0.        , 0.        , 0.        , ..., 0.        , 0.        ,\n",
       "        0.        ],\n",
       "       [0.05616742, 0.        , 0.        , ..., 0.        , 0.        ,\n",
       "        0.06416442],\n",
       "       [0.        , 0.        , 0.        , ..., 0.        , 0.06325742,\n",
       "        0.        ],\n",
       "       ...,\n",
       "       [0.        , 0.        , 0.        , ..., 0.        , 0.        ,\n",
       "        0.        ],\n",
       "       [0.        , 0.        , 0.        , ..., 0.        , 0.        ,\n",
       "        0.        ],\n",
       "       [0.        , 0.        , 0.        , ..., 0.        , 0.        ,\n",
       "        0.        ]])"
      ]
     },
     "execution_count": 29,
     "metadata": {},
     "output_type": "execute_result"
    }
   ],
   "source": [
    "tf_w.transform(df['text']).toarray()"
   ]
  },
  {
   "cell_type": "code",
   "execution_count": 73,
   "metadata": {},
   "outputs": [
    {
     "data": {
      "text/plain": [
       "array([1], dtype=int64)"
      ]
     },
     "execution_count": 73,
     "metadata": {},
     "output_type": "execute_result"
    }
   ],
   "source": [
    "predict_disaster(['''3.2-magnitude earthquake hits San Bernardino County  Press Telegram A small earthquake struck a portion of San Bernardino County early Thursday morning, according to the U.S. Geological Survey. City News Service\n",
    "City News Service is a regional wire service covering Los Angeles, Orange, Riverside and San Diego counties. Its reporting and editing staff cover public safety, courts, local government and general assignment stories. Contact the City News Service newsroom at 310-481-0404 or news@socalnews.com.\n",
    "View Comments\n",
    "Join the Conversation\n",
    "We invite you to use our commenting platform to engage in insightful conversations about issues in our community. Although we do not pre-screen comments, we reserve the right at all times to remove any information or materials that are unlawful, threatening, abusive, libelous, defamatory, obscene, vulgar, pornographic, profane, indecent or otherwise objectionable to us, and to disclose any information necessary to satisfy the law, regulation, or government request. We might permanently block any user who abuses these conditions.\n",
    "If you see comments that you find offensive, please use the Flag as Inappropriate feature by hovering over the right side of the post, and pulling down on the arrow that appears. Or, contact our editors by emailing moderator@scng.com.'''])"
   ]
  },
  {
   "cell_type": "code",
   "execution_count": 75,
   "metadata": {},
   "outputs": [],
   "source": [
    "pickle.dump(rf_w, open('random_forest_2.pkl','wb'))\n",
    "pickle.dump(tf_w, open('Tfidf_Vectorizer_2.pkl','wb'))\n",
    "pickle.dump(sc_w, open('Standard_Scaler_2.pkl','wb'))"
   ]
  }
 ],
 "metadata": {
  "kernelspec": {
   "display_name": "Python 3",
   "language": "python",
   "name": "python3"
  },
  "language_info": {
   "codemirror_mode": {
    "name": "ipython",
    "version": 3
   },
   "file_extension": ".py",
   "mimetype": "text/x-python",
   "name": "python",
   "nbconvert_exporter": "python",
   "pygments_lexer": "ipython3",
   "version": "3.8.5"
  }
 },
 "nbformat": 4,
 "nbformat_minor": 4
}
