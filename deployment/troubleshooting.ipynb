{
 "cells": [
  {
   "cell_type": "code",
   "execution_count": 1,
   "metadata": {},
   "outputs": [],
   "source": [
    "\n",
    "import requests\n",
    "import numpy as np \n",
    "import pandas as pd\n",
    "import pickle"
   ]
  },
  {
   "cell_type": "code",
   "execution_count": 3,
   "metadata": {},
   "outputs": [],
   "source": [
    "from sklearn.feature_extraction.text import TfidfVectorizer\n",
    "from sklearn.preprocessing import StandardScaler\n",
    "from sklearn.ensemble import RandomForestClassifier"
   ]
  },
  {
   "cell_type": "code",
   "execution_count": 4,
   "metadata": {},
   "outputs": [],
   "source": [
    "rf = pickle.load(open('./models/random_forest.pkl','rb'))\n",
    "sc = pickle.load(open('./models/standard_scaler.pkl','rb'))\n",
    "tf = pickle.load(open('./models/tfidf_vectorizer.pkl','rb'))"
   ]
  },
  {
   "cell_type": "code",
   "execution_count": 5,
   "metadata": {},
   "outputs": [],
   "source": [
    "def search_keyword(text):\n",
    "    url = \"https://rapidapi.p.rapidapi.com/api/search/NewsSearchAPI\"\n",
    "    querystring = {\"pageSize\":\"50\",\n",
    "                   \"q\": text,\n",
    "                   \"autoCorrect\":\"true\",\n",
    "                   \"pageNumber\":\"1\",\n",
    "                   \"toPublishedDate\":\"null\",\n",
    "                   \"fromPublishedDate\":\"null\"}\n",
    "    headers = {\n",
    "    'x-rapidapi-host': \"contextualwebsearch-websearch-v1.p.rapidapi.com\",\n",
    "    'x-rapidapi-key': \"55c35a554dmshab5af4556f598ffp1d3d45jsn8b763429c95f\"\n",
    "    }\n",
    "    response = requests.request(\"GET\", url, headers=headers, params=querystring)\n",
    "    page_1_data=response.json()\n",
    "    req_df=pd.DataFrame(page_1_data['value'])\n",
    "    mask=req_df['provider'] == {'name':'wikipedia'}\n",
    "    #get out of here, wikipedia\n",
    "    req_df.drop(req_df[mask].index, inplace=True)\n",
    "    req_df.drop(columns=[\"id\", \"isSafe\", \"image\", \"keywords\"], inplace=True)\n",
    "    req_df['datePublished']= pd.to_datetime(req_df['datePublished'])\n",
    "    return req_df.to_html(render_links=True)"
   ]
  },
  {
   "cell_type": "code",
   "execution_count": 8,
   "metadata": {},
   "outputs": [],
   "source": [
    "def predict_disaster(text_series):\n",
    "\tX = tf.transform(text_series)\n",
    "\tX = pd.DataFrame(X.toarray(), columns = tf.get_feature_names())\n",
    "\tis_disaster = rf.predict(X)\n",
    "\treturn is_disaster"
   ]
  },
  {
   "cell_type": "code",
   "execution_count": 17,
   "metadata": {},
   "outputs": [],
   "source": [
    "x=tf.transform([\"this is a test\",\"this is an article about wildfires and hurricanes and stuff\"])"
   ]
  },
  {
   "cell_type": "code",
   "execution_count": 18,
   "metadata": {},
   "outputs": [
    {
     "data": {
      "text/plain": [
       "<2x5000 sparse matrix of type '<class 'numpy.float64'>'\n",
       "\twith 5 stored elements in Compressed Sparse Row format>"
      ]
     },
     "execution_count": 18,
     "metadata": {},
     "output_type": "execute_result"
    }
   ],
   "source": [
    "x"
   ]
  },
  {
   "cell_type": "code",
   "execution_count": 19,
   "metadata": {},
   "outputs": [
    {
     "data": {
      "text/plain": [
       "array([1, 1], dtype=int64)"
      ]
     },
     "execution_count": 19,
     "metadata": {},
     "output_type": "execute_result"
    }
   ],
   "source": [
    "rf.predict()"
   ]
  }
 ],
 "metadata": {
  "kernelspec": {
   "display_name": "Python 3",
   "language": "python",
   "name": "python3"
  },
  "language_info": {
   "codemirror_mode": {
    "name": "ipython",
    "version": 3
   },
   "file_extension": ".py",
   "mimetype": "text/x-python",
   "name": "python",
   "nbconvert_exporter": "python",
   "pygments_lexer": "ipython3",
   "version": "3.8.5"
  }
 },
 "nbformat": 4,
 "nbformat_minor": 4
}
